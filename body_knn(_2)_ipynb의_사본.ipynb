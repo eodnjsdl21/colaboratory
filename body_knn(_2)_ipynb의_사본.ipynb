{
  "nbformat": 4,
  "nbformat_minor": 0,
  "metadata": {
    "colab": {
      "provenance": [],
      "mount_file_id": "1JCBzcQSna3KdYGWVbKv2pbVaDK5lZ77h",
      "authorship_tag": "ABX9TyPxrTvgV462L1HqXtix8MbA",
      "include_colab_link": true
    },
    "kernelspec": {
      "name": "python3",
      "display_name": "Python 3"
    },
    "language_info": {
      "name": "python"
    }
  },
  "cells": [
    {
      "cell_type": "markdown",
      "metadata": {
        "id": "view-in-github",
        "colab_type": "text"
      },
      "source": [
        "<a href=\"https://colab.research.google.com/github/eodnjsdl21/colaboratory/blob/main/body_knn(_2)_ipynb%EC%9D%98_%EC%82%AC%EB%B3%B8.ipynb\" target=\"_parent\"><img src=\"https://colab.research.google.com/assets/colab-badge.svg\" alt=\"Open In Colab\"/></a>"
      ]
    },
    {
      "cell_type": "code",
      "execution_count": 1,
      "metadata": {
        "colab": {
          "base_uri": "https://localhost:8080/"
        },
        "id": "0CM99S4Df3mB",
        "outputId": "843f30f1-4eb0-4e2e-d8ae-3e509050ea63"
      },
      "outputs": [
        {
          "output_type": "stream",
          "name": "stdout",
          "text": [
            "Looking in indexes: https://pypi.org/simple, https://us-python.pkg.dev/colab-wheels/public/simple/\n",
            "Collecting pingouin\n",
            "  Downloading pingouin-0.5.3.tar.gz (187 kB)\n",
            "\u001b[2K     \u001b[90m━━━━━━━━━━━━━━━━━━━━━━━━━━━━━━━━━━━━━━\u001b[0m \u001b[32m188.0/188.0 KB\u001b[0m \u001b[31m10.3 MB/s\u001b[0m eta \u001b[36m0:00:00\u001b[0m\n",
            "\u001b[?25h  Installing build dependencies ... \u001b[?25l\u001b[?25hdone\n",
            "  Getting requirements to build wheel ... \u001b[?25l\u001b[?25hdone\n",
            "  Preparing metadata (pyproject.toml) ... \u001b[?25l\u001b[?25hdone\n",
            "Requirement already satisfied: scipy>=1.7 in /usr/local/lib/python3.8/dist-packages (from pingouin) (1.7.3)\n",
            "Collecting outdated\n",
            "  Downloading outdated-0.2.2-py2.py3-none-any.whl (7.5 kB)\n",
            "Requirement already satisfied: matplotlib>=3.0.2 in /usr/local/lib/python3.8/dist-packages (from pingouin) (3.2.2)\n",
            "Collecting statsmodels>=0.13\n",
            "  Downloading statsmodels-0.13.5-cp38-cp38-manylinux_2_17_x86_64.manylinux2014_x86_64.whl (9.9 MB)\n",
            "\u001b[2K     \u001b[90m━━━━━━━━━━━━━━━━━━━━━━━━━━━━━━━━━━━━━━━━\u001b[0m \u001b[32m9.9/9.9 MB\u001b[0m \u001b[31m92.8 MB/s\u001b[0m eta \u001b[36m0:00:00\u001b[0m\n",
            "\u001b[?25hRequirement already satisfied: scikit-learn in /usr/local/lib/python3.8/dist-packages (from pingouin) (1.0.2)\n",
            "Requirement already satisfied: seaborn>=0.11 in /usr/local/lib/python3.8/dist-packages (from pingouin) (0.11.2)\n",
            "Requirement already satisfied: numpy>=1.19 in /usr/local/lib/python3.8/dist-packages (from pingouin) (1.21.6)\n",
            "Requirement already satisfied: pandas>=1.0 in /usr/local/lib/python3.8/dist-packages (from pingouin) (1.3.5)\n",
            "Requirement already satisfied: tabulate in /usr/local/lib/python3.8/dist-packages (from pingouin) (0.8.10)\n",
            "Collecting pandas-flavor>=0.2.0\n",
            "  Downloading pandas_flavor-0.3.0-py3-none-any.whl (6.3 kB)\n",
            "Requirement already satisfied: python-dateutil>=2.1 in /usr/local/lib/python3.8/dist-packages (from matplotlib>=3.0.2->pingouin) (2.8.2)\n",
            "Requirement already satisfied: pyparsing!=2.0.4,!=2.1.2,!=2.1.6,>=2.0.1 in /usr/local/lib/python3.8/dist-packages (from matplotlib>=3.0.2->pingouin) (3.0.9)\n",
            "Requirement already satisfied: cycler>=0.10 in /usr/local/lib/python3.8/dist-packages (from matplotlib>=3.0.2->pingouin) (0.11.0)\n",
            "Requirement already satisfied: kiwisolver>=1.0.1 in /usr/local/lib/python3.8/dist-packages (from matplotlib>=3.0.2->pingouin) (1.4.4)\n",
            "Requirement already satisfied: pytz>=2017.3 in /usr/local/lib/python3.8/dist-packages (from pandas>=1.0->pingouin) (2022.7)\n",
            "Requirement already satisfied: xarray in /usr/local/lib/python3.8/dist-packages (from pandas-flavor>=0.2.0->pingouin) (2022.12.0)\n",
            "Collecting lazy-loader==0.1rc2\n",
            "  Downloading lazy_loader-0.1rc2-py3-none-any.whl (5.1 kB)\n",
            "Requirement already satisfied: patsy>=0.5.2 in /usr/local/lib/python3.8/dist-packages (from statsmodels>=0.13->pingouin) (0.5.3)\n",
            "Requirement already satisfied: packaging>=21.3 in /usr/local/lib/python3.8/dist-packages (from statsmodels>=0.13->pingouin) (21.3)\n",
            "Collecting littleutils\n",
            "  Downloading littleutils-0.2.2.tar.gz (6.6 kB)\n",
            "  Preparing metadata (setup.py) ... \u001b[?25l\u001b[?25hdone\n",
            "Requirement already satisfied: setuptools>=44 in /usr/local/lib/python3.8/dist-packages (from outdated->pingouin) (57.4.0)\n",
            "Requirement already satisfied: requests in /usr/local/lib/python3.8/dist-packages (from outdated->pingouin) (2.25.1)\n",
            "Requirement already satisfied: threadpoolctl>=2.0.0 in /usr/local/lib/python3.8/dist-packages (from scikit-learn->pingouin) (3.1.0)\n",
            "Requirement already satisfied: joblib>=0.11 in /usr/local/lib/python3.8/dist-packages (from scikit-learn->pingouin) (1.2.0)\n",
            "Requirement already satisfied: six in /usr/local/lib/python3.8/dist-packages (from patsy>=0.5.2->statsmodels>=0.13->pingouin) (1.15.0)\n",
            "Requirement already satisfied: chardet<5,>=3.0.2 in /usr/local/lib/python3.8/dist-packages (from requests->outdated->pingouin) (4.0.0)\n",
            "Requirement already satisfied: certifi>=2017.4.17 in /usr/local/lib/python3.8/dist-packages (from requests->outdated->pingouin) (2022.12.7)\n",
            "Requirement already satisfied: urllib3<1.27,>=1.21.1 in /usr/local/lib/python3.8/dist-packages (from requests->outdated->pingouin) (1.24.3)\n",
            "Requirement already satisfied: idna<3,>=2.5 in /usr/local/lib/python3.8/dist-packages (from requests->outdated->pingouin) (2.10)\n",
            "Building wheels for collected packages: pingouin, littleutils\n",
            "  Building wheel for pingouin (pyproject.toml) ... \u001b[?25l\u001b[?25hdone\n",
            "  Created wheel for pingouin: filename=pingouin-0.5.3-py3-none-any.whl size=198588 sha256=70a18b57377cfdb93746ccb290893a46dc27c7be28ef2c11ffa7c2600726811e\n",
            "  Stored in directory: /root/.cache/pip/wheels/60/1e/21/710be95d0c93ea9ac3c0e6bacd8cce492ad5dd26bf3aedc4bf\n",
            "  Building wheel for littleutils (setup.py) ... \u001b[?25l\u001b[?25hdone\n",
            "  Created wheel for littleutils: filename=littleutils-0.2.2-py3-none-any.whl size=7047 sha256=3660d3579a1aeb68465e42fa0534fc3295a48ff531efaa55096653ed246dd5a1\n",
            "  Stored in directory: /root/.cache/pip/wheels/6a/33/c4/0ef84d7f5568c2823e3d63a6e08988852fb9e4bc822034870a\n",
            "Successfully built pingouin littleutils\n",
            "Installing collected packages: littleutils, lazy-loader, outdated, statsmodels, pandas-flavor, pingouin\n",
            "  Attempting uninstall: statsmodels\n",
            "    Found existing installation: statsmodels 0.12.2\n",
            "    Uninstalling statsmodels-0.12.2:\n",
            "      Successfully uninstalled statsmodels-0.12.2\n",
            "Successfully installed lazy-loader-0.1rc2 littleutils-0.2.2 outdated-0.2.2 pandas-flavor-0.3.0 pingouin-0.5.3 statsmodels-0.13.5\n",
            "Looking in indexes: https://pypi.org/simple, https://us-python.pkg.dev/colab-wheels/public/simple/\n",
            "Collecting scikit_posthocs\n",
            "  Downloading scikit_posthocs-0.7.0-py3-none-any.whl (38 kB)\n",
            "Requirement already satisfied: statsmodels in /usr/local/lib/python3.8/dist-packages (from scikit_posthocs) (0.13.5)\n",
            "Requirement already satisfied: matplotlib in /usr/local/lib/python3.8/dist-packages (from scikit_posthocs) (3.2.2)\n",
            "Requirement already satisfied: pandas>=0.20.0 in /usr/local/lib/python3.8/dist-packages (from scikit_posthocs) (1.3.5)\n",
            "Requirement already satisfied: scipy in /usr/local/lib/python3.8/dist-packages (from scikit_posthocs) (1.7.3)\n",
            "Requirement already satisfied: numpy in /usr/local/lib/python3.8/dist-packages (from scikit_posthocs) (1.21.6)\n",
            "Requirement already satisfied: seaborn in /usr/local/lib/python3.8/dist-packages (from scikit_posthocs) (0.11.2)\n",
            "Requirement already satisfied: pytz>=2017.3 in /usr/local/lib/python3.8/dist-packages (from pandas>=0.20.0->scikit_posthocs) (2022.7)\n",
            "Requirement already satisfied: python-dateutil>=2.7.3 in /usr/local/lib/python3.8/dist-packages (from pandas>=0.20.0->scikit_posthocs) (2.8.2)\n",
            "Requirement already satisfied: cycler>=0.10 in /usr/local/lib/python3.8/dist-packages (from matplotlib->scikit_posthocs) (0.11.0)\n",
            "Requirement already satisfied: kiwisolver>=1.0.1 in /usr/local/lib/python3.8/dist-packages (from matplotlib->scikit_posthocs) (1.4.4)\n",
            "Requirement already satisfied: pyparsing!=2.0.4,!=2.1.2,!=2.1.6,>=2.0.1 in /usr/local/lib/python3.8/dist-packages (from matplotlib->scikit_posthocs) (3.0.9)\n",
            "Requirement already satisfied: patsy>=0.5.2 in /usr/local/lib/python3.8/dist-packages (from statsmodels->scikit_posthocs) (0.5.3)\n",
            "Requirement already satisfied: packaging>=21.3 in /usr/local/lib/python3.8/dist-packages (from statsmodels->scikit_posthocs) (21.3)\n",
            "Requirement already satisfied: six in /usr/local/lib/python3.8/dist-packages (from patsy>=0.5.2->statsmodels->scikit_posthocs) (1.15.0)\n",
            "Installing collected packages: scikit_posthocs\n",
            "Successfully installed scikit_posthocs-0.7.0\n"
          ]
        }
      ],
      "source": [
        "!pip install pingouin\n",
        "!pip install scikit_posthocs"
      ]
    },
    {
      "cell_type": "code",
      "source": [
        "from matplotlib import pyplot as plt\n",
        "from pandas import DataFrame\n",
        "import numpy as np\n",
        "import seaborn as sns\n",
        "import pandas as pd\n",
        "import math\n",
        "from scipy import stats\n",
        "import pingouin as pg\n",
        "import scikit_posthocs\n",
        "import scipy as sp\n",
        "from statsmodels.formula.api import ols\n",
        "from statsmodels.stats.anova import anova_lm\n",
        "from sklearn.model_selection import train_test_split, cross_val_score, StratifiedKFold, GridSearchCV\n",
        "from sklearn.neighbors import KNeighborsRegressor, KNeighborsClassifier\n",
        "from sklearn.feature_selection import SelectFromModel\n",
        "from sklearn.ensemble import RandomForestClassifier\n",
        "from sklearn.compose import ColumnTransformer\n",
        "from sklearn.preprocessing import StandardScaler, OneHotEncoder\n",
        "from sklearn.linear_model import LinearRegression\n",
        "from sklearn.metrics import mean_squared_error"
      ],
      "metadata": {
        "id": "FmTJs-qwf81N"
      },
      "execution_count": 2,
      "outputs": []
    },
    {
      "cell_type": "code",
      "source": [
        "body = pd.read_excel(\"/content/drive/MyDrive/Colab Notebooks/2015_7_data.xlsx\")"
      ],
      "metadata": {
        "id": "7OPOpOusgIMG"
      },
      "execution_count": 4,
      "outputs": []
    },
    {
      "cell_type": "code",
      "source": [
        "#열이름 \n",
        "#남성결측값 변수 제거 \n",
        "df=body.drop([\"①_036_젖꼭지사이수평길이_여\",\"①_038_목밑둘레\",\"①_041_젖가슴아래둘레_여\",\"①_060_목옆젖꼭지길이_여_\" ,\"①_116_얼굴너비\",\"①_117_아래턱사이너비\"], axis=1)\n",
        "#결측값 제거\n",
        "df.dropna(axis=0, inplace=True)\n",
        "#결측값 개수 확인\n",
        "df.isnull().sum()"
      ],
      "metadata": {
        "colab": {
          "base_uri": "https://localhost:8080/"
        },
        "id": "qZhU-59l0U_E",
        "outputId": "68f951c8-a5cf-4163-f42a-a3cfae9820b9"
      },
      "execution_count": 8,
      "outputs": [
        {
          "output_type": "execute_result",
          "data": {
            "text/plain": [
              "ⓞ_02_성별             0\n",
              "ⓞ_06_나이_반올림         0\n",
              "ⓞ_12_골격근량           0\n",
              "ⓞ_13_체지방량           0\n",
              "ⓞ_14_체수분            0\n",
              "                   ..\n",
              "①_129_발뒤꿈치너비        0\n",
              "①_130_위팔둘레          0\n",
              "①_131_팔꿈치둘레         0\n",
              "①_132_손목둘레          0\n",
              "①_133_머리위로뻗은주먹높이    0\n",
              "Length: 142, dtype: int64"
            ]
          },
          "metadata": {},
          "execution_count": 8
        }
      ]
    },
    {
      "cell_type": "code",
      "source": [
        "#신체지수로 성별 맞추기 \n",
        "#연속형 변수와 범주형 변수 분류해주기\n",
        "num = df.drop([\"ⓞ_02_성별\", \"ⓞ_20_복부지방율평가\", \"ⓞ_22_기초대사량평가\", \"ⓞ_20_복부지방율평가\"], axis=1)\n",
        "num_list = num.columns #리스트에 칼럼을 넣는다. \n",
        "cg = [ \"ⓞ_22_기초대사량평가\"]\n",
        "\n",
        "#body_df 검색시 index에 list를 넣어주어야 함으로 num_list(dtype: object를 list로 전환해줬다.\n",
        "num=[]\n",
        "for i in num_list:\n",
        "  num.append(i)\n",
        "\n",
        "#분할\n",
        "X = df[num+cg]\n",
        "Y = df[\"ⓞ_02_성별\"]\n",
        "\n",
        "X_train, X_test, Y_train, Y_test = train_test_split(X, Y, test_size=0.2, random_state=0)\n",
        "\n",
        "#표준화, 원핫코딩(더미변수화)\n",
        "ct = ColumnTransformer([('scaling', StandardScaler(), num), ('onehot', OneHotEncoder(sparse=False), cg)])\n",
        "ct.fit(X_train)\n",
        "X_train = ct.transform(X_train)\n",
        "X_test = ct.transform(X_test)\n",
        "\n",
        "#오버셈플링\n",
        "from imblearn.over_sampling import SMOTE #synthetic minority over-sampling technique\n",
        "from collections import Counter\n",
        "\n",
        "X_train_over, Y_train_over = SMOTE(random_state = 0).fit_resample(X_train, Y_train)\n",
        "\n",
        "print(\"original data %s\" % Counter(Y))\n",
        "print(\"original train data %s\" % Counter(Y_train))\n",
        "print(\"over train data %s\" % Counter(Y_train_over))"
      ],
      "metadata": {
        "colab": {
          "base_uri": "https://localhost:8080/"
        },
        "id": "HNwdKOQQhQba",
        "outputId": "db922ad6-1ab9-4bfd-db9f-89ff50eacb45"
      },
      "execution_count": 14,
      "outputs": [
        {
          "output_type": "stream",
          "name": "stdout",
          "text": [
            "original data Counter({'여': 3181, '남': 3160})\n",
            "original train data Counter({'남': 2542, '여': 2530})\n",
            "over train data Counter({'여': 2542, '남': 2542})\n"
          ]
        }
      ]
    },
    {
      "cell_type": "code",
      "source": [
        "# 모델 선택 및 하이퍼파라미터 조정\n",
        "from sklearn.neighbors import KNeighborsClassifier\n",
        "from sklearn.tree import DecisionTreeClassifier\n",
        "\n",
        "# 모델 생성\n",
        "knn_model = KNeighborsClassifier()\n",
        "\n",
        "print(X_train.shape, Y_train.shape)\n",
        "\n",
        "# 교차검증\n",
        "from sklearn.model_selection import cross_val_score\n",
        "#over처리로 한걸로 성능확인 \n",
        "knn_result = cross_val_score(knn_model,X_train_over, Y_train_over, cv=10) \n",
        "# 5개로 나눠진 k-fold교차검증을 보겠다\n",
        "knn_result.mean() # k-fold 성능"
      ],
      "metadata": {
        "colab": {
          "base_uri": "https://localhost:8080/"
        },
        "id": "_sfQ1D8Xk7Xe",
        "outputId": "0b2d5d5c-2cb8-4cbb-b775-54a1073cd4e9"
      },
      "execution_count": 16,
      "outputs": [
        {
          "output_type": "stream",
          "name": "stdout",
          "text": [
            "(5072, 142) (5072,)\n"
          ]
        },
        {
          "output_type": "execute_result",
          "data": {
            "text/plain": [
              "0.9885919680393933"
            ]
          },
          "metadata": {},
          "execution_count": 16
        }
      ]
    },
    {
      "cell_type": "code",
      "source": [
        "# 1~10 중에서 자장 좋은 k값을 알아보기 위해서이다. \n",
        "score_list=[]\n",
        "\n",
        "for k in range(1,10): # 이웃이 작으면 복잡, 크면 단순\n",
        "    knn_model = KNeighborsClassifier(n_neighbors=k) # 이웃의 수에 따른 모델 생성\n",
        "    knn_result = cross_val_score(knn_model, X_train, Y_train) # 교차검증값\n",
        "    score_list.append(knn_result.mean())\n",
        "\n",
        "# 시각화\n",
        "plt.figure(figsize=(45,5))\n",
        "plt.plot(range(1,10),score_list)\n",
        "plt.xticks(range(1,10))\n",
        "plt.grid()\n",
        "plt.xlabel('n_neighbors')\n",
        "plt.ylabel('score')\n",
        "plt.show()\n",
        "\n"
      ],
      "metadata": {
        "colab": {
          "base_uri": "https://localhost:8080/",
          "height": 150
        },
        "id": "xrSChr9OM0Wo",
        "outputId": "43fad142-61e7-4f17-8411-6508aa201585"
      },
      "execution_count": 28,
      "outputs": [
        {
          "output_type": "display_data",
          "data": {
            "text/plain": [
              "<Figure size 3240x360 with 1 Axes>"
            ],
            "image/png": "[encoded data removed]"
          },
          "metadata": {
            "needs_background": "light"
          }
        }
      ]
    },
    {
      "cell_type": "code",
      "source": [
        "from sklearn.neighbors import KNeighborsClassifier\n",
        "from sklearn.metrics import classification_report\n",
        "final_knn = KNeighborsClassifier(n_neighbors=3)\n",
        "final_knn.fit(X_train,Y_train)\n",
        "\n",
        "#활용데이터 \n",
        "knn_model = KNeighborsClassifier(n_neighbors=3, metric=\"euclidean\")\n",
        "knn_model.fit(X_train, Y_train)\n",
        "Y_pred = knn_model.predict(X_test)\n",
        "print(\"accuracy : {:.3f}\".format(knn_model.score(X_train, Y_train)))\n",
        "print(classification_report(Y_test,Y_pred))"
      ],
      "metadata": {
        "colab": {
          "base_uri": "https://localhost:8080/"
        },
        "id": "lMgv0VGNPHy4",
        "outputId": "82f19bf2-8766-4ac0-b620-1ab856ddc824"
      },
      "execution_count": 32,
      "outputs": [
        {
          "output_type": "stream",
          "name": "stdout",
          "text": [
            "accuracy : 0.993\n",
            "              precision    recall  f1-score   support\n",
            "\n",
            "           남       0.98      0.99      0.98       618\n",
            "           여       0.99      0.98      0.99       651\n",
            "\n",
            "    accuracy                           0.99      1269\n",
            "   macro avg       0.98      0.99      0.99      1269\n",
            "weighted avg       0.99      0.99      0.99      1269\n",
            "\n"
          ]
        }
      ]
    },
    {
      "cell_type": "code",
      "source": [
        "knn_model_auc =roc_auc_score(Y_test, knn_model.predict_proba(X_test)[:,1])\n",
        "print(\"knn AUC score: {:.3}\".format(knn_model_auc))"
      ],
      "metadata": {
        "colab": {
          "base_uri": "https://localhost:8080/"
        },
        "id": "3uJ3mUgeXK-j",
        "outputId": "6cd3be2f-967c-4619-8f66-1f14f33cf0bb"
      },
      "execution_count": 37,
      "outputs": [
        {
          "output_type": "stream",
          "name": "stdout",
          "text": [
            "knn AUC score: 0.992\n"
          ]
        }
      ]
    }
  ]
}